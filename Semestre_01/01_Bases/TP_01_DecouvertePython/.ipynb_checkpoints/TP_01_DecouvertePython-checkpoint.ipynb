{
 "cells": [
  {
   "cell_type": "markdown",
   "metadata": {
    "deletable": false,
    "editable": false
   },
   "source": [
    "<center>\n",
    "    <span style=\"font-size:xx-large;font-style: bold;\">\n",
    "        TP 01 Découverte de Python\n",
    "    </span>\n",
    "</center>\n"
   ]
  },
  {
   "cell_type": "markdown",
   "metadata": {
    "deletable": false,
    "editable": false
   },
   "source": [
    "<div class = \"alert  alert-danger\">\n",
    "    Ceci est votre notebook contenant les questions, les fonctions et les tests de vos fonctions.\n",
    "    <ul> \n",
    "        <li> Penser à sauvegarder régulièrement </li>\n",
    "    </ul>\n",
    "    \n",
    "    \n",
    "    \n",
    "Les cellules peuvent être exécutées via le menu <b>Run</b>, via l'icône Play ou avec un raccourci clavier :\n",
    "    <ul>\n",
    "        <li> <code>Shift+Entrée</code> pour exécuter la cellule et passer à la suivante ;</li>\n",
    "        <li> <code>Ctrl+Entrée</code> pour exécuter la cellule sans passer à la suivante ;</li>\n",
    "        <li> <code>Alt+Entrée</code> pour exécuter la cellule et créer une nouvelle cellule en dessous.</li>\n",
    "        <li> <b>Il faut obligatoire exécuter vos fonctions.</b></li>\n",
    "        <li> <b>Il faut obligatoire exécuter des tests (ou faire vos propres tests).</b></li>\n",
    "    </ul>\n",
    "</div>\n",
    "\n"
   ]
  },
  {
   "cell_type": "code",
   "execution_count": null,
   "metadata": {
    "deletable": false,
    "editable": false
   },
   "outputs": [],
   "source": [
    "# Exécutez cette cellule pour pouvoir faire les tests\n",
    "import _TP_01_DecouvertePython as test"
   ]
  },
  {
   "cell_type": "markdown",
   "metadata": {
    "deletable": false,
    "editable": false
   },
   "source": [
    "## Mes premières fonctions"
   ]
  },
  {
   "cell_type": "markdown",
   "metadata": {
    "deletable": false,
    "editable": false
   },
   "source": [
    "<div class=\"alert alert-success\" style=\"border-left:3px solid #3c763d; border-radius:2px;\">\n",
    "<span style=\"color: #000000\">\n",
    "Implémenter une fonction <tt> somme(a:int,b:int) -> int </tt> renvoyant la somme des entiers <tt>a</tt> et <tt>b</tt>.\n",
    "</span>\n",
    "</div>"
   ]
  },
  {
   "cell_type": "code",
   "execution_count": null,
   "metadata": {},
   "outputs": [],
   "source": [
    "# Écrire ici votre fonction"
   ]
  },
  {
   "cell_type": "code",
   "execution_count": null,
   "metadata": {
    "deletable": false,
    "editable": false
   },
   "outputs": [],
   "source": [
    "# Tests de la fonction somme\n",
    "test.somme_test(somme,3,2)\n",
    "test.somme_test(somme,-1,1)\n",
    "test.somme_test(somme,-1,2)"
   ]
  },
  {
   "cell_type": "markdown",
   "metadata": {
    "deletable": false,
    "editable": false
   },
   "source": [
    "<div class=\"alert alert-success\" style=\"border-left:3px solid #3c763d; border-radius:2px;\">\n",
    "<span style=\"color: #000000\">\n",
    "    Implémenter une fonction <tt> racine(a:float) -> float </tt> renvoyant $\\sqrt a $.\n",
    "</span>\n",
    "</div>"
   ]
  },
  {
   "cell_type": "code",
   "execution_count": null,
   "metadata": {},
   "outputs": [],
   "source": [
    "# Écrire ici votre fonction"
   ]
  },
  {
   "cell_type": "code",
   "execution_count": null,
   "metadata": {
    "deletable": false,
    "editable": false
   },
   "outputs": [],
   "source": [
    "# Tests de la fonction racine\n",
    "test.racine_test(racine,0)\n",
    "test.racine_test(racine,1)\n",
    "test.racine_test(racine,2)"
   ]
  },
  {
   "cell_type": "markdown",
   "metadata": {
    "deletable": false,
    "editable": false
   },
   "source": [
    "<div class=\"alert alert-success\" style=\"border-left:3px solid #3c763d; border-radius:2px;\">\n",
    "<span style=\"color: #000000\">\n",
    "    Implémenter une fonction <tt> inv_racine(a:float) -> float </tt> renvoyant $\\frac{1}{\\sqrt a} $.\n",
    "    </span>\n",
    "</div>"
   ]
  },
  {
   "cell_type": "code",
   "execution_count": null,
   "metadata": {},
   "outputs": [],
   "source": [
    "# Écrire ici votre fonction"
   ]
  },
  {
   "cell_type": "code",
   "execution_count": null,
   "metadata": {
    "deletable": false,
    "editable": false
   },
   "outputs": [],
   "source": [
    "# Tests de la fonction inv_racine\n",
    "test.inv_racine_test(inv_racine,2)\n",
    "test.inv_racine_test(inv_racine,1)"
   ]
  },
  {
   "cell_type": "markdown",
   "metadata": {
    "deletable": false,
    "editable": false
   },
   "source": [
    "<div class=\"alert alert-success\" style=\"border-left:3px solid #3c763d; border-radius:2px;\">\n",
    "<span style=\"color: #000000\">\n",
    "    Implémenter une fonction <tt> est_pair(a:int) -> bool </tt> renvoyant <tt> True </tt> si a est pair, <tt> False </tt> sinon.\n",
    "    </span>\n",
    "</div>"
   ]
  },
  {
   "cell_type": "code",
   "execution_count": null,
   "metadata": {},
   "outputs": [],
   "source": [
    "# Écrire ici votre fonction"
   ]
  },
  {
   "cell_type": "code",
   "execution_count": null,
   "metadata": {
    "deletable": false,
    "editable": false
   },
   "outputs": [],
   "source": [
    "# Tests de la fonction est_pair\n",
    "test.est_pair_test(est_pair,2)\n",
    "test.est_pair_test(est_pair,1)\n",
    "test.est_pair_test(est_pair,0)"
   ]
  },
  {
   "cell_type": "markdown",
   "metadata": {
    "deletable": false,
    "editable": false
   },
   "source": [
    "## Mes premières boucles"
   ]
  },
  {
   "cell_type": "markdown",
   "metadata": {
    "deletable": false,
    "editable": false
   },
   "source": [
    "<div class=\"alert alert-success\" style=\"border-left:3px solid #3c763d; border-radius:2px;\">\n",
    "<span style=\"color: #000000\">\n",
    "    Implémenter une fonction <tt> puissance_2_for(n:int) -> int </tt> renvoyant $2^n$. On utilisera une boucle <tt> for</tt>.\n",
    "    </span>\n",
    "</div>"
   ]
  },
  {
   "cell_type": "code",
   "execution_count": null,
   "metadata": {},
   "outputs": [],
   "source": [
    "# Écrire ici votre fonction"
   ]
  },
  {
   "cell_type": "code",
   "execution_count": null,
   "metadata": {
    "deletable": false,
    "editable": false
   },
   "outputs": [],
   "source": [
    "# Tests de la fonction puissance_2_for\n",
    "test.puissance_2_for_test(puissance_2_for,7)\n",
    "test.puissance_2_for_test(puissance_2_for,3)\n",
    "test.puissance_2_for_test(puissance_2_for,0)"
   ]
  },
  {
   "cell_type": "markdown",
   "metadata": {
    "deletable": false,
    "editable": false
   },
   "source": [
    "<div class=\"alert alert-success\" style=\"border-left:3px solid #3c763d; border-radius:2px;\">\n",
    "<span style=\"color: #000000\">\n",
    "    Implémenter une fonction <tt> puissance_2_while(n:int) -> int </tt> renvoyant $2^n$. On utilisera une boucle <tt> while</tt>.\n",
    "    </span>\n",
    "</div>"
   ]
  },
  {
   "cell_type": "code",
   "execution_count": null,
   "metadata": {},
   "outputs": [],
   "source": [
    "# Écrire ici votre fonction"
   ]
  },
  {
   "cell_type": "code",
   "execution_count": null,
   "metadata": {
    "deletable": false,
    "editable": false
   },
   "outputs": [],
   "source": [
    "# Tests de la fonction puissance_2_while\n",
    "test.puissance_2_while_test(puissance_2_while,7)\n",
    "test.puissance_2_while_test(puissance_2_while,3)\n",
    "test.puissance_2_while_test(puissance_2_while,0)"
   ]
  },
  {
   "cell_type": "markdown",
   "metadata": {
    "deletable": false,
    "editable": false
   },
   "source": [
    "<div class=\"alert alert-success\" style=\"border-left:3px solid #3c763d; border-radius:2px;\">\n",
    "<span style=\"color: #000000\">\n",
    "    Implémenter une fonction <tt> puissance_for(a:float,n:int) -> float </tt> renvoyant $a^n$. On utilisera une boucle <tt> for</tt>.\n",
    "    </span>\n",
    "</div>"
   ]
  },
  {
   "cell_type": "code",
   "execution_count": null,
   "metadata": {},
   "outputs": [],
   "source": [
    "# Écrire ici votre fonction"
   ]
  },
  {
   "cell_type": "code",
   "execution_count": null,
   "metadata": {},
   "outputs": [],
   "source": [
    "# Tests de la fonction puissance_for\n",
    "test.puissance_for_test(puissance_for,2,4)\n",
    "test.puissance_for_test(puissance_for,2.5,4)\n",
    "test.puissance_for_test(puissance_for,12,0)\n",
    "test.puissance_for_test(puissance_for,0,4)"
   ]
  },
  {
   "cell_type": "markdown",
   "metadata": {
    "deletable": false,
    "editable": false
   },
   "source": [
    "<div class=\"alert alert-success\" style=\"border-left:3px solid #3c763d; border-radius:2px;\">\n",
    "<span style=\"color: #000000\">\n",
    "    Implémenter une fonction <tt> puissance_while(a:float,n:int) -> float </tt> renvoyant $a^n$. On utilisera une boucle <tt> while</tt>.\n",
    "    </span>\n",
    "</div>"
   ]
  },
  {
   "cell_type": "code",
   "execution_count": null,
   "metadata": {},
   "outputs": [],
   "source": [
    "# Écrire ici votre fonction"
   ]
  },
  {
   "cell_type": "code",
   "execution_count": null,
   "metadata": {},
   "outputs": [],
   "source": [
    "# Tests de la fonction puissance_while\n",
    "test.puissance_while_test(puissance_while,2,4)\n",
    "test.puissance_while_test(puissance_while,2.5,4)\n",
    "test.puissance_while_test(puissance_while,12,0)\n",
    "test.puissance_while_test(puissance_while,0,4)"
   ]
  },
  {
   "cell_type": "markdown",
   "metadata": {
    "deletable": false,
    "editable": false
   },
   "source": [
    "<div class=\"alert alert-success\" style=\"border-left:3px solid #3c763d; border-radius:2px;\">\n",
    "<span style=\"color: #000000\">\n",
    "    Implémenter une fonction <tt> puissance(a:float,n:int) -> float </tt> renvoyant $a^n$. On n'utilisera pas de boucle.\n",
    "    </span>\n",
    "</div>"
   ]
  },
  {
   "cell_type": "code",
   "execution_count": null,
   "metadata": {},
   "outputs": [],
   "source": [
    "# Écrire ici votre fonction"
   ]
  },
  {
   "cell_type": "code",
   "execution_count": null,
   "metadata": {},
   "outputs": [],
   "source": [
    "# Tests de la fonction puissance\n",
    "test.puissance_test(puissance,2,4)\n",
    "test.puissance_test(puissance,2.5,4)\n",
    "test.puissance_test(puissance,12,0)\n",
    "test.puissance_test(puissance,0,4)"
   ]
  },
  {
   "cell_type": "markdown",
   "metadata": {
    "deletable": false,
    "editable": false
   },
   "source": [
    "<div class=\"alert alert-success\" style=\"border-left:3px solid #3c763d; border-radius:2px;\">\n",
    "<span style=\"color: #000000\">\n",
    "    Implémenter une fonction <tt> factoriel_while(n:int) -> int </tt> renvoyant $n!$. On utilisera une boucle <tt> while</tt>.\n",
    "    </span>\n",
    "</div>"
   ]
  },
  {
   "cell_type": "code",
   "execution_count": null,
   "metadata": {},
   "outputs": [],
   "source": [
    "# Écrire ici votre fonction"
   ]
  },
  {
   "cell_type": "code",
   "execution_count": null,
   "metadata": {},
   "outputs": [],
   "source": [
    "# Tests de la fonction factoriel_while\n",
    "test.factoriel_while_test(factoriel_while,1)\n",
    "test.factoriel_while_test(factoriel_while,4)\n",
    "test.factoriel_while_test(factoriel_while,0)"
   ]
  },
  {
   "cell_type": "markdown",
   "metadata": {
    "deletable": false,
    "editable": false
   },
   "source": [
    "<div class=\"alert alert-success\" style=\"border-left:3px solid #3c763d; border-radius:2px;\">\n",
    "<span style=\"color: #000000\">\n",
    "    Implémenter une fonction <tt> factoriel_for(n:int) -> int </tt> renvoyant $n!$. On utilisera une boucle <tt> for</tt>.\n",
    "    </span>\n",
    "</div>"
   ]
  },
  {
   "cell_type": "code",
   "execution_count": null,
   "metadata": {},
   "outputs": [],
   "source": [
    "# Écrire ici votre fonction"
   ]
  },
  {
   "cell_type": "code",
   "execution_count": null,
   "metadata": {},
   "outputs": [],
   "source": [
    "# Tests de la fonction factoriel_for\n",
    "test.factoriel_for_test(factoriel_for,1)\n",
    "test.factoriel_for_test(factoriel_for,4)\n",
    "test.factoriel_for_test(factoriel_for,0)"
   ]
  },
  {
   "cell_type": "markdown",
   "metadata": {
    "deletable": false,
    "editable": false
   },
   "source": [
    "<div class=\"alert alert-success\" style=\"border-left:3px solid #3c763d; border-radius:2px;\">\n",
    "<span style=\"color: #000000\">\n",
    "    Implémenter une fonction <tt> binomial(n:int,k:int) -> int </tt> renvoyant $\\frac{n!}{k!(n-k)!}$.\n",
    "    </span>\n",
    "</div>"
   ]
  },
  {
   "cell_type": "code",
   "execution_count": null,
   "metadata": {},
   "outputs": [],
   "source": [
    "# Écrire ici votre fonction"
   ]
  },
  {
   "cell_type": "code",
   "execution_count": null,
   "metadata": {},
   "outputs": [],
   "source": [
    "# Tests de la fonction binommial\n",
    "test.binomial_test(binomial,1,3)\n",
    "test.binomial_test(binomial,3,1)\n",
    "test.binomial_test(binomial,5,3)\n",
    "test.binomial_test(binomial,3,5)\n",
    "test.binomial_test(binomial,5,0)\n",
    "test.binomial_test(binomial,0,5)"
   ]
  }
 ],
 "metadata": {
  "celltoolbar": "Éditer les Méta-Données",
  "kernelspec": {
   "display_name": "Python 3 (ipykernel)",
   "language": "python",
   "name": "python3"
  },
  "language_info": {
   "codemirror_mode": {
    "name": "ipython",
    "version": 3
   },
   "file_extension": ".py",
   "mimetype": "text/x-python",
   "name": "python",
   "nbconvert_exporter": "python",
   "pygments_lexer": "ipython3",
   "version": "3.8.12"
  }
 },
 "nbformat": 4,
 "nbformat_minor": 2
}

{
 "cells": [
  {
   "cell_type": "markdown",
   "id": "40970e8c",
   "metadata": {},
   "source": [
    "# Fonctions récursives"
   ]
  },
  {
   "cell_type": "code",
   "execution_count": 1,
   "id": "73a1d1f0",
   "metadata": {},
   "outputs": [],
   "source": [
    "import numpy as np\n",
    "import matplotlib.pyplot as plt"
   ]
  },
  {
   "cell_type": "markdown",
   "id": "dd6e9975",
   "metadata": {},
   "source": [
    "## Suite récurrente"
   ]
  },
  {
   "cell_type": "markdown",
   "id": "b10f0fd6",
   "metadata": {},
   "source": [
    "Soit la suite définie par :\n",
    "$\n",
    "\\left\\{\n",
    "\\begin{array}{l}\n",
    "u_0 = 0,1 \\\\\n",
    "u_{n+1} = \\dfrac{1}{1+u_n} \\\\\n",
    "\\end{array}\n",
    "\\right.\n",
    "$."
   ]
  },
  {
   "cell_type": "markdown",
   "id": "b3660f18",
   "metadata": {},
   "source": [
    "#### Question 1 - Compléter la fonction suivante permettant de calculer le nième terme de la suite $u_n$. On utilisera une fonction récursive."
   ]
  },
  {
   "cell_type": "code",
   "execution_count": 2,
   "id": "0899228b",
   "metadata": {},
   "outputs": [],
   "source": [
    "def un_rec(n:int) -> float :\n",
    "    if n==0 : \n",
    "        return \n",
    "    else :\n",
    "        return "
   ]
  },
  {
   "cell_type": "code",
   "execution_count": 3,
   "id": "938e730b",
   "metadata": {},
   "outputs": [
    {
     "name": "stdout",
     "output_type": "stream",
     "text": [
      "0.617989417989418\n"
     ]
    }
   ],
   "source": [
    "# Vérification : un_rec(10) = 0.617989417989418\n",
    "print(un_rec(10))"
   ]
  },
  {
   "cell_type": "markdown",
   "id": "14ac7fc9",
   "metadata": {},
   "source": [
    "#### Question 2 - Compléter la fonction suivante permettant de calculer le nième terme de la suite $u_n$. On utilisera une fonction itérative."
   ]
  },
  {
   "cell_type": "code",
   "execution_count": 4,
   "id": "56e3db29",
   "metadata": {},
   "outputs": [],
   "source": [
    "def un_it(n:int) -> float :\n",
    "    if n==0 : \n",
    "        \n",
    "    else :\n",
    "        "
   ]
  },
  {
   "cell_type": "code",
   "execution_count": 5,
   "id": "8922a3ac",
   "metadata": {},
   "outputs": [
    {
     "name": "stdout",
     "output_type": "stream",
     "text": [
      "0.617989417989418\n"
     ]
    }
   ],
   "source": [
    "# Vérification : un_it(10) = 0.617989417989418\n",
    "print(un_it(10))"
   ]
  },
  {
   "cell_type": "markdown",
   "id": "39c14c24",
   "metadata": {},
   "source": [
    "#### Question 3 - Stocker les 10 premiers entiers (de 0 à 9) dans la variable les_n et les 10 premiers termes de la suite dans la variable les_u."
   ]
  },
  {
   "cell_type": "code",
   "execution_count": 6,
   "id": "87536749",
   "metadata": {},
   "outputs": [],
   "source": [
    "les_n = [n for n in range(10)]\n",
    "les_u = [un_rec(n) for n in range(10)]"
   ]
  },
  {
   "cell_type": "markdown",
   "id": "6ea57d9a",
   "metadata": {},
   "source": [
    "#### Inteprétation graphique"
   ]
  },
  {
   "cell_type": "code",
   "execution_count": 7,
   "id": "c0bb5e37",
   "metadata": {},
   "outputs": [
    {
     "data": {
      "text/plain": [
       "[<matplotlib.lines.Line2D at 0x20ff45e8c40>]"
      ]
     },
     "execution_count": 7,
     "metadata": {},
     "output_type": "execute_result"
    },
    {
     "data": {
      "image/png": "[encoded data removed]",
      "text/plain": [
       "<Figure size 432x288 with 1 Axes>"
      ]
     },
     "metadata": {
      "needs_background": "light"
     },
     "output_type": "display_data"
    }
   ],
   "source": [
    "def f(x):\n",
    "    return 1/(1+x)\n",
    "def suite(u0,n):\n",
    "    les_xx = [u0]\n",
    "    les_yy = [0]\n",
    "    for i in range(n-1):\n",
    "        les_xx.append(les_xx[-1])\n",
    "        les_yy.append(f(les_xx[-1]))\n",
    "        les_xx.append(les_yy[-1])\n",
    "        les_yy.append(les_yy[-1])\n",
    "    return les_xx,les_yy\n",
    "les_x = np.linspace(0,1,100)\n",
    "les_fx = f(les_x)\n",
    "les_xx,les_yy = suite(0.1,10)\n",
    "plt.grid()\n",
    "plt.plot(les_x,les_fx)\n",
    "plt.plot(les_x,les_x)            \n",
    "plt.plot(les_xx,les_yy)            "
   ]
  },
  {
   "cell_type": "markdown",
   "id": "865c69ee",
   "metadata": {},
   "source": [
    " ## Petits exercices\n",
    " \n",
    " #### Question 4 -  Définir une fonction  récursive `somme(a:list) -> int` qui renvoie la somme des éléments d’une liste d'entiers a."
   ]
  },
  {
   "cell_type": "code",
   "execution_count": 8,
   "id": "9fda1560",
   "metadata": {},
   "outputs": [],
   "source": [
    "def somme(a:list) -> int :\n"
   ]
  },
  {
   "cell_type": "code",
   "execution_count": 9,
   "id": "f95302fc",
   "metadata": {},
   "outputs": [
    {
     "name": "stdout",
     "output_type": "stream",
     "text": [
      "True\n"
     ]
    }
   ],
   "source": [
    "# Test de la fonction\n",
    "a = [1,1,2,2]\n",
    "print(somme(a)==sum(a))"
   ]
  },
  {
   "cell_type": "markdown",
   "id": "ffb09f61",
   "metadata": {},
   "source": [
    " #### Question 5 -  Définir une fonction `maximum(a:list)->int` qui renvoie la plus grande valeur des éléments d’une liste d'entiers a."
   ]
  },
  {
   "cell_type": "code",
   "execution_count": 10,
   "id": "864b6cd5",
   "metadata": {},
   "outputs": [],
   "source": [
    "# A vérifier\n",
    "def maximum(a:list) -> int :\n",
    "   "
   ]
  },
  {
   "cell_type": "code",
   "execution_count": 11,
   "id": "5dc741bb",
   "metadata": {},
   "outputs": [
    {
     "name": "stdout",
     "output_type": "stream",
     "text": [
      "True\n"
     ]
    }
   ],
   "source": [
    "# Test de la fonction\n",
    "a = [321,1,12,32,231]\n",
    "maximum(a)\n",
    "print(maximum(a)==max(a))"
   ]
  },
  {
   "cell_type": "markdown",
   "id": "71abc612",
   "metadata": {},
   "source": [
    "#### Question 6 - Définir une fonction `cherche(a:list,x:int)->bool`, qui prend en arguments une liste d'entiers a et un entier x, et qui renvoie le booléen indiquant si x est un élément de a.\n"
   ]
  },
  {
   "cell_type": "code",
   "execution_count": 12,
   "id": "a07d269c",
   "metadata": {},
   "outputs": [],
   "source": [
    "def cherche(a:list,x:int) -> bool:\n",
    "    "
   ]
  },
  {
   "cell_type": "code",
   "execution_count": 13,
   "id": "83628294",
   "metadata": {},
   "outputs": [
    {
     "name": "stdout",
     "output_type": "stream",
     "text": [
      "True\n",
      "False\n"
     ]
    }
   ],
   "source": [
    "# Test de la fonction\n",
    "a = [321,1,12,32,231]\n",
    "print(cherche(a,12))\n",
    "print(cherche(a,21))"
   ]
  },
  {
   "cell_type": "markdown",
   "id": "78c15f81",
   "metadata": {},
   "source": [
    "#### Question 7 - Définir une fonction `serie(n)` d’argument un entier n et qui renvoie la sommme $\\sum\\limits_{i=1}^n \\dfrac{1}{k^2}$."
   ]
  },
  {
   "cell_type": "code",
   "execution_count": 14,
   "id": "0a4ec12c",
   "metadata": {},
   "outputs": [],
   "source": [
    "def serie(n):\n",
    "    "
   ]
  },
  {
   "cell_type": "code",
   "execution_count": 15,
   "id": "4c142ff6",
   "metadata": {},
   "outputs": [
    {
     "name": "stdout",
     "output_type": "stream",
     "text": [
      "1.4236111111111112\n",
      "1.4236111111111112\n"
     ]
    }
   ],
   "source": [
    "# Test de la fonction : \n",
    "print(1+(1/2)**2+(1/3)**2+(1/4)**2)\n",
    "print(serie(4))"
   ]
  },
  {
   "attachments": {},
   "cell_type": "markdown",
   "id": "b6b1b116",
   "metadata": {},
   "source": [
    "#### Question 8 - Définir une fonction récursive permettant de compter le nombre d'occurences du caractère a."
   ]
  },
  {
   "cell_type": "code",
   "execution_count": 16,
   "id": "fded8f11",
   "metadata": {},
   "outputs": [],
   "source": [
    "def compte(chaine : str, a:str):\n",
    "    i"
   ]
  },
  {
   "cell_type": "code",
   "execution_count": 17,
   "id": "401ef7be",
   "metadata": {},
   "outputs": [
    {
     "name": "stdout",
     "output_type": "stream",
     "text": [
      "2\n",
      "4\n",
      "0\n"
     ]
    }
   ],
   "source": [
    "# Test de la fonction\n",
    "chaine = \"a bb ccc dddd eeee\"\n",
    "print(compte(chaine,'b'))\n",
    "print(compte(chaine,'e'))\n",
    "print(compte(chaine,'f'))"
   ]
  },
  {
   "cell_type": "markdown",
   "id": "a136f0e7",
   "metadata": {},
   "source": [
    " ## Pour \"s'amuser ...\"\n",
    " #### Question 9 - Réaliser une fonction récursive triangle1 permettant de réaliser l'affichage suivant : \n",
    "\\*\n",
    "\n",
    "\\*\\*\n",
    "\n",
    "\\*\\*\\*\n",
    "\n",
    "\\*\\*\\*\\*"
   ]
  },
  {
   "cell_type": "code",
   "execution_count": 18,
   "id": "63b028ac",
   "metadata": {},
   "outputs": [
    {
     "name": "stdout",
     "output_type": "stream",
     "text": [
      "*\n",
      "**\n",
      "***\n",
      "****\n"
     ]
    }
   ],
   "source": [
    "def triangle(n):\n",
    " \n",
    "\n",
    "\n"
   ]
  },
  {
   "cell_type": "code",
   "execution_count": null,
   "id": "cb757591",
   "metadata": {},
   "outputs": [],
   "source": [
    "# Test de la fonction\n",
    "triangle(4)"
   ]
  },
  {
   "cell_type": "markdown",
   "id": "5621b043",
   "metadata": {},
   "source": [
    " #### Question 10 - Réaliser une fonction récursive triangle2 permettant de réaliser l'affichage suivant : \n",
    "\\*\\*\\*\\*\n",
    "\n",
    "\\*\\*\\*\n",
    "\n",
    "\\*\\*\n",
    "\n",
    "\\*\n"
   ]
  },
  {
   "cell_type": "code",
   "execution_count": 19,
   "id": "c76b27da",
   "metadata": {},
   "outputs": [
    {
     "name": "stdout",
     "output_type": "stream",
     "text": [
      "****\n",
      "***\n",
      "**\n",
      "*\n"
     ]
    }
   ],
   "source": [
    "def triangle2(n):\n"
   ]
  },
  {
   "cell_type": "code",
   "execution_count": null,
   "id": "679925d4",
   "metadata": {},
   "outputs": [],
   "source": [
    "# Test de la fonction\n",
    "triangle2(4)"
   ]
  }
 ],
 "metadata": {
  "kernelspec": {
   "display_name": "Python 3",
   "language": "python",
   "name": "python3"
  },
  "language_info": {
   "codemirror_mode": {
    "name": "ipython",
    "version": 3
   },
   "file_extension": ".py",
   "mimetype": "text/x-python",
   "name": "python",
   "nbconvert_exporter": "python",
   "pygments_lexer": "ipython3",
   "version": "3.8.5"
  }
 },
 "nbformat": 4,
 "nbformat_minor": 5
}

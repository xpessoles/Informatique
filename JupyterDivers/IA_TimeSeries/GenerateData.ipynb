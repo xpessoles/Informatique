{
 "cells": [
  {
   "cell_type": "code",
   "execution_count": 1,
   "id": "47d0bed6",
   "metadata": {},
   "outputs": [],
   "source": [
    "from scipy import signal\n",
    "\n"
   ]
  },
  {
   "cell_type": "code",
   "execution_count": 6,
   "id": "54d4f1ee",
   "metadata": {},
   "outputs": [
    {
     "data": {
      "text/plain": [
       "TransferFunctionDiscrete(\n",
       "array([200.]),\n",
       "array([  1.,  10., 100.]),\n",
       "dt: 0.001\n",
       ")"
      ]
     },
     "execution_count": 6,
     "metadata": {},
     "output_type": "execute_result"
    }
   ],
   "source": [
    "dt = 0.001\n",
    "om0 = 10\n",
    "xi = 0.5\n",
    "K = 2\n",
    "num = [K]\n",
    "den = [1/(om0*om0),2*xi/om0,1]\n",
    "signal.TransferFunction(num, den, dt=dt)"
   ]
  },
  {
   "cell_type": "code",
   "execution_count": null,
   "id": "cced7e5d",
   "metadata": {},
   "outputs": [],
   "source": []
  }
 ],
 "metadata": {
  "kernelspec": {
   "display_name": "Python 3",
   "language": "python",
   "name": "python3"
  },
  "language_info": {
   "codemirror_mode": {
    "name": "ipython",
    "version": 3
   },
   "file_extension": ".py",
   "mimetype": "text/x-python",
   "name": "python",
   "nbconvert_exporter": "python",
   "pygments_lexer": "ipython3",
   "version": "3.8.8"
  }
 },
 "nbformat": 4,
 "nbformat_minor": 5
}

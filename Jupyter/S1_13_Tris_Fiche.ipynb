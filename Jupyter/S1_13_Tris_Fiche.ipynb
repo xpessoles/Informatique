{
  "cells": [
    {
      "cell_type": "markdown",
      "metadata": {
        "id": "view-in-github",
        "colab_type": "text"
      },
      "source": [
        "<a href=\"https://colab.research.google.com/github/xpessoles/Informatique/blob/main/Jupyter/S1_13_Tris_Fiche.ipynb\" target=\"_parent\"><img src=\"https://colab.research.google.com/assets/colab-badge.svg\" alt=\"Open In Colab\"/></a>"
      ]
    },
    {
      "cell_type": "markdown",
      "id": "38901a70",
      "metadata": {
        "id": "38901a70"
      },
      "source": [
        "# Activité préparatoire - Tris"
      ]
    },
    {
      "cell_type": "code",
      "execution_count": null,
      "id": "6dd31120",
      "metadata": {
        "id": "6dd31120"
      },
      "outputs": [],
      "source": [
        "import random as rd\n",
        "import numpy as np\n",
        "import matplotlib.pyplot as plt"
      ]
    },
    {
      "cell_type": "markdown",
      "id": "1ca34a05",
      "metadata": {
        "id": "1ca34a05"
      },
      "source": [
        "## Tri à la main\n",
        "#### Question 1 : Appliquer « à la main » le tri par insertion sur la liste `[16,3,19,15,5,5,1,11]`."
      ]
    },
    {
      "cell_type": "markdown",
      "id": "aeaa0a11",
      "metadata": {
        "id": "aeaa0a11"
      },
      "source": [
        "Réponse 1 : "
      ]
    },
    {
      "cell_type": "markdown",
      "id": "8b6e473f",
      "metadata": {
        "id": "8b6e473f"
      },
      "source": [
        "#### Question 2 : Appliquer « à la main » le tri rapide sur la liste `[16,3,19,15,5,5,1,11]`."
      ]
    },
    {
      "cell_type": "markdown",
      "id": "5552062d",
      "metadata": {
        "id": "5552062d"
      },
      "source": [
        "Réponse 2 :"
      ]
    },
    {
      "cell_type": "markdown",
      "id": "579e5439",
      "metadata": {
        "id": "579e5439"
      },
      "source": [
        "#### Question 3 : Appliquer « à la main » le tri fusion sur la liste `[16,3,19,15,5,5,1,11]`."
      ]
    },
    {
      "cell_type": "markdown",
      "id": "3e176420",
      "metadata": {
        "id": "3e176420"
      },
      "source": [
        "Réponse 3 :"
      ]
    },
    {
      "cell_type": "markdown",
      "id": "239848f5",
      "metadata": {
        "id": "239848f5"
      },
      "source": [
        "## Tri automatisé\n",
        "#### Question 4 - Définir les fonctions permettant de trier une liste par insertion. "
      ]
    },
    {
      "cell_type": "code",
      "execution_count": null,
      "id": "5090ad5d",
      "metadata": {
        "id": "5090ad5d"
      },
      "outputs": [],
      "source": [
        "def insere(t, j):\n",
        "    # A modifier\n",
        "    return None\n",
        "    \n",
        "def insertionSort(t):\n",
        "    # A modifier\n",
        "    return None"
      ]
    },
    {
      "cell_type": "code",
      "execution_count": null,
      "id": "1097d936",
      "metadata": {
        "id": "1097d936",
        "outputId": "7852dd24-d468-4a84-a13a-cd2cc98d83ec"
      },
      "outputs": [
        {
          "name": "stdout",
          "output_type": "stream",
          "text": [
            "[6, 12, 17, 37, 44, 53, 73, 85, 87, 98]\n"
          ]
        }
      ],
      "source": [
        "tab = [17, 53, 37, 44, 73, 87, 12, 6, 85, 98]\n",
        "insertionSort(tab)\n",
        "print(tab)"
      ]
    },
    {
      "cell_type": "markdown",
      "id": "a8261882",
      "metadata": {
        "id": "a8261882"
      },
      "source": [
        "#### Question 5 - Définir les fonctions permettant de trier une liste par le tri rapide."
      ]
    },
    {
      "cell_type": "code",
      "execution_count": null,
      "id": "4bd97bed",
      "metadata": {
        "id": "4bd97bed"
      },
      "outputs": [],
      "source": [
        "def segmente(t, i, j):\n",
        "    # A modifier\n",
        "    return None\n",
        "def quickSort(t, i, j):\n",
        "    # A modifier\n",
        "    return None"
      ]
    },
    {
      "cell_type": "code",
      "execution_count": null,
      "id": "a3f56bf8",
      "metadata": {
        "id": "a3f56bf8",
        "outputId": "a2c5bcef-9019-486f-bb4d-e2310a41cca3"
      },
      "outputs": [
        {
          "name": "stdout",
          "output_type": "stream",
          "text": [
            "[6, 12, 17, 37, 44, 53, 73, 85, 87, 98]\n"
          ]
        }
      ],
      "source": [
        "tab = [17, 53, 37, 44, 73, 87, 12, 6, 85, 98]\n",
        "quickSort(tab, 0, len(tab))\n",
        "print(tab)"
      ]
    },
    {
      "cell_type": "markdown",
      "id": "1d181e49",
      "metadata": {
        "id": "1d181e49"
      },
      "source": [
        "#### Question 6 - Définir les fonctions permettant de trier une liste par le tri fusion."
      ]
    },
    {
      "cell_type": "code",
      "execution_count": null,
      "id": "462d069a",
      "metadata": {
        "id": "462d069a"
      },
      "outputs": [],
      "source": [
        "def merge(a, b):\n",
        "    # A modifier\n",
        "    return None\n",
        "\n",
        "def mergeSort(t):\n",
        "    # A modifier\n",
        "    return None"
      ]
    },
    {
      "cell_type": "code",
      "execution_count": null,
      "id": "70f3f29c",
      "metadata": {
        "id": "70f3f29c",
        "outputId": "a6c6d1fb-1ce2-467c-93bc-6515405a0798"
      },
      "outputs": [
        {
          "name": "stdout",
          "output_type": "stream",
          "text": [
            "[6, 12, 17, 37, 44, 53, 73, 85, 87, 98]\n"
          ]
        }
      ],
      "source": [
        "tab = [17, 53, 37, 44, 73, 87, 12, 6, 85, 98]\n",
        "t = mergeSort(tab)\n",
        "print(t)"
      ]
    },
    {
      "cell_type": "markdown",
      "id": "4304fec1",
      "metadata": {
        "id": "4304fec1"
      },
      "source": [
        "## Comparaison des tris"
      ]
    },
    {
      "cell_type": "code",
      "execution_count": null,
      "id": "427a9eff",
      "metadata": {
        "id": "427a9eff"
      },
      "outputs": [],
      "source": [
        "import time\n",
        "N = 400\n",
        "t_insertion =[]\n",
        "\n",
        "for i in range(1,N):\n",
        "    temps = []\n",
        "    for j in range(10):\n",
        "        tab = [rd.randrange(N) for k in range(i)]\n",
        "        start = time.time()\n",
        "        insertionSort(tab)    \n",
        "        end = time.time()\n",
        "        temps.append(end - start)\n",
        "    t_insertion.append(sum(temps)/len(temps))"
      ]
    },
    {
      "cell_type": "code",
      "execution_count": null,
      "id": "1df3b55d",
      "metadata": {
        "id": "1df3b55d"
      },
      "outputs": [],
      "source": [
        "N = 1000\n",
        "t_quick =[]\n",
        "for i in range(1,N):\n",
        "    temps = []\n",
        "    for j in range(10):\n",
        "        tab = [rd.randrange(N) for k in range(i)]\n",
        "        start = time.time()\n",
        "        quickSort(tab, 0, len(tab))\n",
        "        end = time.time()\n",
        "        temps.append(end - start)\n",
        "    t_quick.append(sum(temps)/len(temps))"
      ]
    },
    {
      "cell_type": "code",
      "execution_count": null,
      "id": "cbc74a46",
      "metadata": {
        "id": "cbc74a46"
      },
      "outputs": [],
      "source": [
        "t_merge =[]\n",
        "for i in range(1,N):\n",
        "    temps = []\n",
        "    for j in range(10):\n",
        "        tab = [rd.randrange(N) for k in range(i)]\n",
        "        start = time.time()\n",
        "        mergeSort(tab)\n",
        "        end = time.time()\n",
        "        temps.append(end - start)\n",
        "    t_merge.append(sum(temps)/len(temps))"
      ]
    },
    {
      "cell_type": "code",
      "execution_count": null,
      "id": "0677b6d7",
      "metadata": {
        "id": "0677b6d7",
        "outputId": "8a9bfc87-5556-485f-dfd8-8721fdf4779e"
      },
      "outputs": [
        {
          "data": {
            "text/plain": [
              "<matplotlib.legend.Legend at 0x264765fef40>"
            ]
          },
          "execution_count": 14,
          "metadata": {},
          "output_type": "execute_result"
        },
        {
          "data": {
            "image/png": "[encoded data removed]",
            "text/plain": [
              "<Figure size 432x288 with 1 Axes>"
            ]
          },
          "metadata": {
            "needs_background": "light"
          },
          "output_type": "display_data"
        }
      ],
      "source": [
        "plt.plot(t_insertion,label='Tri insertion')\n",
        "plt.plot(t_quick,label='Tri rapide')\n",
        "plt.plot(t_merge,label='Tri fusion')\n",
        "plt.legend()"
      ]
    },
    {
      "cell_type": "code",
      "execution_count": null,
      "id": "5f5cb470",
      "metadata": {
        "id": "5f5cb470"
      },
      "outputs": [],
      "source": [
        ""
      ]
    }
  ],
  "metadata": {
    "kernelspec": {
      "display_name": "Python 3",
      "language": "python",
      "name": "python3"
    },
    "language_info": {
      "codemirror_mode": {
        "name": "ipython",
        "version": 3
      },
      "file_extension": ".py",
      "mimetype": "text/x-python",
      "name": "python",
      "nbconvert_exporter": "python",
      "pygments_lexer": "ipython3",
      "version": "3.8.5"
    },
    "colab": {
      "name": "S1_13_Tris_Fiche.ipynb",
      "provenance": [],
      "include_colab_link": true
    }
  },
  "nbformat": 4,
  "nbformat_minor": 5
}
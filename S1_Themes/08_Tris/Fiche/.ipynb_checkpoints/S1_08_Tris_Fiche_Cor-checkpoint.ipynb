{
 "cells": [
  {
   "cell_type": "markdown",
   "id": "84b49fd5",
   "metadata": {},
   "source": [
    "# Activité préparatoire - Tris"
   ]
  },
  {
   "cell_type": "code",
   "execution_count": 1,
   "id": "f72794a4",
   "metadata": {},
   "outputs": [],
   "source": [
    "import random as rd\n",
    "import numpy as np\n",
    "import matplotlib.pyplot as plt"
   ]
  },
  {
   "cell_type": "markdown",
   "id": "c9a6abe7",
   "metadata": {},
   "source": [
    "#### Question 1 - Définir les fonctions permettant de trier une liste par insertion. "
   ]
  },
  {
   "cell_type": "code",
   "execution_count": 2,
   "id": "1f7f694b",
   "metadata": {},
   "outputs": [],
   "source": [
    "def insere(t, j):\n",
    "    k, a = j, t[j]\n",
    "    while k > 0 and a < t[k-1]:\n",
    "        t[k] = t[k-1]\n",
    "        k = k-1\n",
    "    t[k] = a\n",
    "    \n",
    "def insertionSort(t):\n",
    "    for j in range(1, len(t)):\n",
    "        insere(t, j)"
   ]
  },
  {
   "cell_type": "code",
   "execution_count": 3,
   "id": "09722dad",
   "metadata": {},
   "outputs": [
    {
     "name": "stdout",
     "output_type": "stream",
     "text": [
      "[6, 12, 17, 37, 44, 53, 73, 85, 87, 98]\n"
     ]
    }
   ],
   "source": [
    "tab = [17, 53, 37, 44, 73, 87, 12, 6, 85, 98]\n",
    "insertionSort(tab)\n",
    "print(tab)"
   ]
  },
  {
   "cell_type": "markdown",
   "id": "7bc8d9c9",
   "metadata": {},
   "source": [
    "#### Question 2 - Définir les fonctions permettant de trier une liste par le tri rapide."
   ]
  },
  {
   "cell_type": "code",
   "execution_count": 4,
   "id": "009dfc83",
   "metadata": {},
   "outputs": [],
   "source": [
    "def segmente(t, i, j):\n",
    "    p = t[j-1] # On prend comme pivot le dernier élément de la sous liste. \n",
    "    a = i\n",
    "    for b in range(i, j-1):\n",
    "        if t[b] < p:\n",
    "            t[a], t[b] = t[b], t[a]\n",
    "            a += 1\n",
    "    t[a], t[j-1] = t[j-1], t[a] # On positionne le pivot \"à sa place\".\n",
    "    return a # On retourne l'index du pivot. Le tableau a été modifié en place. \n",
    "def quickSort(t, i, j):\n",
    "    if i + 1 < j:\n",
    "        a = segmente(t, i, j)\n",
    "        quickSort(t, i, a)\n",
    "        quickSort(t, a + 1, j)"
   ]
  },
  {
   "cell_type": "code",
   "execution_count": 5,
   "id": "35c140ec",
   "metadata": {},
   "outputs": [
    {
     "name": "stdout",
     "output_type": "stream",
     "text": [
      "[6, 12, 17, 37, 44, 53, 73, 85, 87, 98]\n"
     ]
    }
   ],
   "source": [
    "tab = [17, 53, 37, 44, 73, 87, 12, 6, 85, 98]\n",
    "quickSort(tab, 0, len(tab))\n",
    "print(tab)"
   ]
  },
  {
   "cell_type": "markdown",
   "id": "adbebfeb",
   "metadata": {},
   "source": [
    "#### Question 3 - Définir les fonctions permettant de trier une liste par le tri fusion."
   ]
  },
  {
   "cell_type": "code",
   "execution_count": 6,
   "id": "4c8fde1c",
   "metadata": {},
   "outputs": [],
   "source": [
    "def merge(a, b):\n",
    "    p, q = len(a), len(b)\n",
    "    c = [None] * (p + q)\n",
    "    i = j = 0\n",
    "    for k in range(p+q):\n",
    "        if j >= q:\n",
    "            c[k] = a[i]\n",
    "            i += 1\n",
    "        elif i >= p:\n",
    "            c[k] = b[j]\n",
    "            j += 1\n",
    "        elif a[i] < b[j]:\n",
    "            c[k] = a[i]\n",
    "            i += 1\n",
    "        else:\n",
    "            c[k] = b[j]\n",
    "            j += 1\n",
    "    return c\n",
    "\n",
    "def mergeSort(t):\n",
    "    n = len(t)\n",
    "    if n < 2:\n",
    "        return t\n",
    "    a = mergeSort(t[:n//2])\n",
    "    b = mergeSort(t[n//2:])\n",
    "    return merge(a, b)"
   ]
  },
  {
   "cell_type": "code",
   "execution_count": 7,
   "id": "bd10a800",
   "metadata": {},
   "outputs": [
    {
     "name": "stdout",
     "output_type": "stream",
     "text": [
      "[6, 12, 17, 37, 44, 53, 73, 85, 87, 98]\n"
     ]
    }
   ],
   "source": [
    "tab = [17, 53, 37, 44, 73, 87, 12, 6, 85, 98]\n",
    "t = mergeSort(tab)\n",
    "print(t)"
   ]
  },
  {
   "cell_type": "markdown",
   "id": "7eba2ff1",
   "metadata": {},
   "source": [
    "Comparaison des tris"
   ]
  },
  {
   "cell_type": "code",
   "execution_count": 8,
   "id": "116e959d",
   "metadata": {},
   "outputs": [],
   "source": [
    "import time\n",
    "N = 100\n",
    "t_insertion =[]\n",
    "\n",
    "for i in range(1,N):\n",
    "    temps = []\n",
    "    for j in range(N):\n",
    "        tab = [rd.randrange(N) for k in range(i)]\n",
    "        start = time.time()\n",
    "        insertionSort(tab)    \n",
    "        end = time.time()\n",
    "        temps.append(end - start)\n",
    "    t_insertion.append(sum(temps)/len(temps))"
   ]
  },
  {
   "cell_type": "code",
   "execution_count": 11,
   "id": "82b26aa4",
   "metadata": {},
   "outputs": [],
   "source": [
    "t_quick =[]\n",
    "for i in range(1,N):\n",
    "    temps = []\n",
    "    for j in range(N):\n",
    "        tab = [rd.randrange(N) for k in range(i)]\n",
    "        start = time.time()\n",
    "        quickSort(tab, 0, len(tab))\n",
    "        end = time.time()\n",
    "        temps.append(end - start)\n",
    "    t_quick.append(sum(temps)/len(temps))"
   ]
  },
  {
   "cell_type": "code",
   "execution_count": 12,
   "id": "30d5b3e0",
   "metadata": {},
   "outputs": [],
   "source": [
    "t_merge =[]\n",
    "for i in range(1,N):\n",
    "    temps = []\n",
    "    for j in range(N):\n",
    "        tab = [rd.randrange(N) for k in range(i)]\n",
    "        start = time.time()\n",
    "        mergeSort(tab)\n",
    "        end = time.time()\n",
    "        temps.append(end - start)\n",
    "    t_merge.append(sum(temps)/len(temps))"
   ]
  },
  {
   "cell_type": "code",
   "execution_count": 13,
   "id": "b97c9732",
   "metadata": {},
   "outputs": [
    {
     "data": {
      "text/plain": [
       "[<matplotlib.lines.Line2D at 0x26ad8cd2460>]"
      ]
     },
     "execution_count": 13,
     "metadata": {},
     "output_type": "execute_result"
    },
    {
     "data": {
      "image/png": "[encoded data removed]",
      "text/plain": [
       "<Figure size 432x288 with 1 Axes>"
      ]
     },
     "metadata": {
      "needs_background": "light"
     },
     "output_type": "display_data"
    }
   ],
   "source": [
    "plt.plot(t_insertion)\n",
    "plt.plot(t_quick)\n",
    "plt.plot(t_merge)"
   ]
  },
  {
   "cell_type": "code",
   "execution_count": null,
   "id": "b15b3684",
   "metadata": {},
   "outputs": [],
   "source": []
  }
 ],
 "metadata": {
  "kernelspec": {
   "display_name": "Python 3",
   "language": "python",
   "name": "python3"
  },
  "language_info": {
   "codemirror_mode": {
    "name": "ipython",
    "version": 3
   },
   "file_extension": ".py",
   "mimetype": "text/x-python",
   "name": "python",
   "nbconvert_exporter": "python",
   "pygments_lexer": "ipython3",
   "version": "3.8.5"
  }
 },
 "nbformat": 4,
 "nbformat_minor": 5
}

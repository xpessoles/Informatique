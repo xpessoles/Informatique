{
 "cells": [
  {
   "cell_type": "markdown",
   "id": "f4dcbef0",
   "metadata": {},
   "source": [
    "# Structures imbriquées en Python\n",
    "\n",
    "Nous allons commencer par travailler sur un tableau de nombres et réaliser des opérations élémentaires sur celui là."
   ]
  },
  {
   "cell_type": "code",
   "execution_count": 7,
   "id": "8ac0c6d1",
   "metadata": {},
   "outputs": [],
   "source": [
    "L = [[83, 71, 5, 55, 97],[76, 96, 22, 34, 74],[97, 53, 72, 95, 26],[31, 97, 71, 72, 81]]"
   ]
  },
  {
   "cell_type": "markdown",
   "id": "4a670887",
   "metadata": {},
   "source": [
    "On définit la fonction mystère suivante."
   ]
  },
  {
   "cell_type": "code",
   "execution_count": 8,
   "id": "9b1e7b6f",
   "metadata": {},
   "outputs": [],
   "source": [
    "def mystere(t):\n",
    "    \"\"\"\n",
    "    t(list) : liste de listes d'entiers.\n",
    "    \"\"\"\n",
    "    m = t[0][0]\n",
    "    for l in t : \n",
    "        for e in l : \n",
    "            if e > m:\n",
    "                m = e\n",
    "    return m"
   ]
  },
  {
   "cell_type": "markdown",
   "id": "f2562454",
   "metadata": {},
   "source": [
    "### Question 1 - Quel est le rôle de cette fonction ?"
   ]
  },
  {
   "cell_type": "code",
   "execution_count": 9,
   "id": "9def8b9f",
   "metadata": {},
   "outputs": [],
   "source": [
    "# Vous pouvez saisir ci-dessous une instruction pour tester la fonction précédente."
   ]
  },
  {
   "cell_type": "markdown",
   "id": "a0b259b0",
   "metadata": {},
   "source": [
    "Réponse :"
   ]
  },
  {
   "cell_type": "markdown",
   "id": "28eaffc7",
   "metadata": {},
   "source": [
    "### Question 2 - Remplir la fonction ci-dessous permettant d'afficher chacun des termes de tab."
   ]
  },
  {
   "cell_type": "code",
   "execution_count": 10,
   "id": "05b2e36f",
   "metadata": {},
   "outputs": [
    {
     "ename": "SyntaxError",
     "evalue": "unexpected EOF while parsing (<ipython-input-10-6a5a3a686106>, line 2)",
     "output_type": "error",
     "traceback": [
      "\u001b[1;36m  File \u001b[1;32m\"<ipython-input-10-6a5a3a686106>\"\u001b[1;36m, line \u001b[1;32m2\u001b[0m\n\u001b[1;33m    # A remplir\u001b[0m\n\u001b[1;37m               ^\u001b[0m\n\u001b[1;31mSyntaxError\u001b[0m\u001b[1;31m:\u001b[0m unexpected EOF while parsing\n"
     ]
    }
   ],
   "source": [
    "def affiche(tab:list) -> None : \n",
    "    # A remplir"
   ]
  },
  {
   "cell_type": "markdown",
   "id": "b4df7ac9",
   "metadata": {},
   "source": [
    "### Question 3 - Remplir la fonction ci-dessous permettant d'ajouter le nombre n à chacun des éléments de la liste."
   ]
  },
  {
   "cell_type": "code",
   "execution_count": null,
   "id": "38c9bc79",
   "metadata": {},
   "outputs": [],
   "source": [
    "def ajouter(tab:list, nb:float) -> None : \n",
    "    # A remplir"
   ]
  },
  {
   "cell_type": "code",
   "execution_count": null,
   "id": "8ed22afe",
   "metadata": {},
   "outputs": [],
   "source": [
    "# Test de la fonction\n",
    "ajouter(tab,2)\n",
    "print(tab)"
   ]
  },
  {
   "cell_type": "markdown",
   "id": "172f5646",
   "metadata": {},
   "source": [
    "### Question 4 - Pourquoi la fonction ci-dessus ne renvoit-elle rien ?"
   ]
  },
  {
   "cell_type": "markdown",
   "id": "0fb8e850",
   "metadata": {},
   "source": [
    "Réponse : "
   ]
  },
  {
   "cell_type": "markdown",
   "id": "d8a8091f",
   "metadata": {},
   "source": [
    "### Question 5 - Remplir la fonction permettant de donner l'index de la ligne où se trouve le maximum de la liste."
   ]
  },
  {
   "cell_type": "code",
   "execution_count": null,
   "id": "df76a941",
   "metadata": {},
   "outputs": [],
   "source": [
    "def recherche_index_ligne(tab:lis) -> int :\n",
    "    # A remplir"
   ]
  },
  {
   "cell_type": "code",
   "execution_count": null,
   "id": "2dd9e016",
   "metadata": {},
   "outputs": [],
   "source": [
    "# Test de la fonction"
   ]
  },
  {
   "cell_type": "markdown",
   "id": "0f9afb28",
   "metadata": {},
   "source": [
    "### Question 6 - Remplir la fonction permettant de renvoyer un tuple contenant l'indice de la ligne et de la colonne du maximum de la liste. "
   ]
  },
  {
   "cell_type": "code",
   "execution_count": 11,
   "id": "5372ce2f",
   "metadata": {},
   "outputs": [
    {
     "ename": "SyntaxError",
     "evalue": "unexpected EOF while parsing (<ipython-input-11-dd07044241a5>, line 2)",
     "output_type": "error",
     "traceback": [
      "\u001b[1;36m  File \u001b[1;32m\"<ipython-input-11-dd07044241a5>\"\u001b[1;36m, line \u001b[1;32m2\u001b[0m\n\u001b[1;33m    # A remplir\u001b[0m\n\u001b[1;37m               ^\u001b[0m\n\u001b[1;31mSyntaxError\u001b[0m\u001b[1;31m:\u001b[0m unexpected EOF while parsing\n"
     ]
    }
   ],
   "source": [
    "def recherche_index_max(tab:list) -> int :\n",
    "    # A remplir"
   ]
  },
  {
   "cell_type": "code",
   "execution_count": null,
   "id": "cfa852c5",
   "metadata": {},
   "outputs": [],
   "source": [
    "# Test de la fonction"
   ]
  },
  {
   "cell_type": "markdown",
   "id": "1d568c2e",
   "metadata": {},
   "source": [
    "### Question 7 - Remplir la fonction permettant de renvoyer la liste des cases adjacentes (Nord, Sud, Est, Ouest). On fera attention à prendre en compte les cas où on cherche les voisins d'une case du bord du tableau."
   ]
  },
  {
   "cell_type": "code",
   "execution_count": null,
   "id": "9594efd0",
   "metadata": {},
   "outputs": [],
   "source": [
    "def adjacentes(tab,list: i:int,j :int) -> list :\n",
    "    \"\"\"\n",
    "    i : ligne de la cellule dont on cherche les cases adjacentes\n",
    "    j : colonne de la cellule dont on cherche les cases adjacentes\n",
    "    Retourne la liste des cellules adjacentes à la cellule (i,j)\n",
    "    \"\"\""
   ]
  },
  {
   "cell_type": "code",
   "execution_count": null,
   "id": "166c30c1",
   "metadata": {},
   "outputs": [],
   "source": [
    "# Test de la fonction"
   ]
  },
  {
   "cell_type": "markdown",
   "id": "1d6411d1",
   "metadata": {},
   "source": [
    "### Question 8 - Parmi les cellules adjacentes à la cellule (i,j) déterminer le maximum. "
   ]
  },
  {
   "cell_type": "code",
   "execution_count": null,
   "id": "7fa6d704",
   "metadata": {},
   "outputs": [],
   "source": [
    "def max_adjacentes(tab,list: i:int,j :int) -> int :\n",
    "    \"\"\"\n",
    "    i : ligne de la cellule dont on cherche les cases adjacentes\n",
    "    j : colonne de la cellule dont on cherche les cases adjacentes\n",
    "    Retourne la plus grande valeur parmi les cases adjacentes à (i,j)\n",
    "    \"\"\""
   ]
  },
  {
   "cell_type": "code",
   "execution_count": null,
   "id": "26b73c2c",
   "metadata": {},
   "outputs": [],
   "source": [
    "# Test de la fonction"
   ]
  },
  {
   "cell_type": "markdown",
   "id": "49deee2d",
   "metadata": {},
   "source": [
    "### Question 9 - Rechercher la deuxième plus grande valeur du tableau."
   ]
  },
  {
   "cell_type": "code",
   "execution_count": null,
   "id": "61d6a5e6",
   "metadata": {},
   "outputs": [],
   "source": [
    "def deuxieme_max (tab,list) -> int :\n",
    "    "
   ]
  },
  {
   "cell_type": "code",
   "execution_count": null,
   "id": "60004d91",
   "metadata": {},
   "outputs": [],
   "source": [
    "# Test de la fonction"
   ]
  }
 ],
 "metadata": {
  "kernelspec": {
   "display_name": "Python 3",
   "language": "python",
   "name": "python3"
  },
  "language_info": {
   "codemirror_mode": {
    "name": "ipython",
    "version": 3
   },
   "file_extension": ".py",
   "mimetype": "text/x-python",
   "name": "python",
   "nbconvert_exporter": "python",
   "pygments_lexer": "ipython3",
   "version": "3.8.8"
  }
 },
 "nbformat": 4,
 "nbformat_minor": 5
}

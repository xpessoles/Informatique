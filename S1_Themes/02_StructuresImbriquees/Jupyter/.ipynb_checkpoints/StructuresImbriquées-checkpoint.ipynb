{
 "cells": [
  {
   "cell_type": "markdown",
   "id": "3bd639e1",
   "metadata": {},
   "source": [
    "# Structures imbriquées en Python\n",
    "\n",
    "Nous allons commencer par travailler sur un tableau de nombres et réaliser des opérations élémentaires sur celui là."
   ]
  },
  {
   "cell_type": "code",
   "execution_count": 2,
   "id": "412a5fbf",
   "metadata": {},
   "outputs": [],
   "source": [
    "L = [[83, 71, 5, 55, 97],[76, 96, 22, 34, 74],[97, 53, 72, 95, 26],[31, 97, 71, 72, 81]]"
   ]
  },
  {
   "cell_type": "markdown",
   "id": "ddb87723",
   "metadata": {},
   "source": [
    "On définit la fonction mystère suivante."
   ]
  },
  {
   "cell_type": "code",
   "execution_count": 3,
   "id": "4992a5fc",
   "metadata": {},
   "outputs": [],
   "source": [
    "def mystere(t):\n",
    "    \"\"\"\n",
    "    t(list) : liste de listes d'entiers.\n",
    "    \"\"\"\n",
    "    m = t[0][0]\n",
    "    for l in t : \n",
    "        for e in l : \n",
    "            if e > m:\n",
    "                m = e\n",
    "    return m"
   ]
  },
  {
   "cell_type": "markdown",
   "id": "1361dcc4",
   "metadata": {},
   "source": [
    "### Question 1 - Quel est le rôle de cette fonction ?"
   ]
  },
  {
   "cell_type": "code",
   "execution_count": 4,
   "id": "6df5cc4e",
   "metadata": {},
   "outputs": [],
   "source": [
    "# Vous pouvez saisir ci-dessous une instruction pour tester la fonction précédente."
   ]
  },
  {
   "cell_type": "markdown",
   "id": "3b3c2706",
   "metadata": {},
   "source": [
    "Réponse :"
   ]
  },
  {
   "cell_type": "markdown",
   "id": "785e9223",
   "metadata": {},
   "source": [
    "### Question 2 - Remplir la fonction ci-dessous permettant d'afficher chacun des termes de tab."
   ]
  },
  {
   "cell_type": "code",
   "execution_count": 5,
   "id": "f80fd147",
   "metadata": {},
   "outputs": [
    {
     "ename": "SyntaxError",
     "evalue": "unexpected EOF while parsing (<ipython-input-5-6a5a3a686106>, line 2)",
     "output_type": "error",
     "traceback": [
      "\u001b[1;36m  File \u001b[1;32m\"<ipython-input-5-6a5a3a686106>\"\u001b[1;36m, line \u001b[1;32m2\u001b[0m\n\u001b[1;33m    # A remplir\u001b[0m\n\u001b[1;37m               ^\u001b[0m\n\u001b[1;31mSyntaxError\u001b[0m\u001b[1;31m:\u001b[0m unexpected EOF while parsing\n"
     ]
    }
   ],
   "source": [
    "def affiche(tab:list) -> None : \n",
    "    # A remplir"
   ]
  },
  {
   "cell_type": "markdown",
   "id": "9b0b630a",
   "metadata": {},
   "source": [
    "### Question 3 - Remplir la fonction ci-dessous permettant d'ajouter le nombre n à chacun des éléments de la liste."
   ]
  },
  {
   "cell_type": "code",
   "execution_count": 6,
   "id": "8380465f",
   "metadata": {},
   "outputs": [
    {
     "ename": "SyntaxError",
     "evalue": "unexpected EOF while parsing (<ipython-input-6-3b0ca0affb52>, line 2)",
     "output_type": "error",
     "traceback": [
      "\u001b[1;36m  File \u001b[1;32m\"<ipython-input-6-3b0ca0affb52>\"\u001b[1;36m, line \u001b[1;32m2\u001b[0m\n\u001b[1;33m    # A remplir\u001b[0m\n\u001b[1;37m               ^\u001b[0m\n\u001b[1;31mSyntaxError\u001b[0m\u001b[1;31m:\u001b[0m unexpected EOF while parsing\n"
     ]
    }
   ],
   "source": [
    "def ajouter(tab:list, nb:float) -> None : \n",
    "    # A remplir"
   ]
  },
  {
   "cell_type": "code",
   "execution_count": null,
   "id": "7b035b88",
   "metadata": {},
   "outputs": [],
   "source": [
    "# Test de la fonction\n",
    "ajouter(tab,2)\n",
    "print(tab)"
   ]
  },
  {
   "cell_type": "markdown",
   "id": "62d2d7fd",
   "metadata": {},
   "source": [
    "### Question 4 - Pourquoi la fonction ci-dessus ne renvoit-elle rien ?"
   ]
  },
  {
   "cell_type": "markdown",
   "id": "15447e00",
   "metadata": {},
   "source": [
    "Réponse : "
   ]
  },
  {
   "cell_type": "markdown",
   "id": "1f4b60d0",
   "metadata": {},
   "source": [
    "### Question 5 - Remplir la fonction permettant de donner l'index de la ligne où se trouve le maximum de la liste."
   ]
  },
  {
   "cell_type": "code",
   "execution_count": null,
   "id": "ab7342cc",
   "metadata": {},
   "outputs": [],
   "source": [
    "def recherche_index_ligne(tab:lis) -> int :\n",
    "    # A remplir"
   ]
  },
  {
   "cell_type": "code",
   "execution_count": null,
   "id": "b211793c",
   "metadata": {},
   "outputs": [],
   "source": [
    "# Test de la fonction"
   ]
  },
  {
   "cell_type": "markdown",
   "id": "edbb0050",
   "metadata": {},
   "source": [
    "### Question 6 - Remplir la fonction permettant de renvoyer un tuple contenant l'indice de la ligne et de la colonne du maximum de la liste. "
   ]
  },
  {
   "cell_type": "code",
   "execution_count": null,
   "id": "fdb73fde",
   "metadata": {},
   "outputs": [],
   "source": [
    "def recherche_index_max(tab:list) -> int :\n",
    "    # A remplir"
   ]
  },
  {
   "cell_type": "code",
   "execution_count": null,
   "id": "f2449601",
   "metadata": {},
   "outputs": [],
   "source": [
    "# Test de la fonction"
   ]
  },
  {
   "cell_type": "markdown",
   "id": "5f9ef35c",
   "metadata": {},
   "source": [
    "### Question 7 - Remplir la fonction permettant de renvoyer la liste des cases adjacentes (Nord, Sud, Est, Ouest). On fera attention à prendre en compte les cas où on cherche les voisins d'une case du bord du tableau."
   ]
  },
  {
   "cell_type": "code",
   "execution_count": null,
   "id": "c41c0c33",
   "metadata": {},
   "outputs": [],
   "source": [
    "def adjacentes(tab,list: i:int,j :int) -> list :\n",
    "    \"\"\"\n",
    "    i : ligne de la cellule dont on cherche les cases adjacentes\n",
    "    j : colonne de la cellule dont on cherche les cases adjacentes\n",
    "    Retourne la liste des cellules adjacentes à la cellule (i,j)\n",
    "    \"\"\""
   ]
  },
  {
   "cell_type": "code",
   "execution_count": null,
   "id": "ca37570d",
   "metadata": {},
   "outputs": [],
   "source": [
    "# Test de la fonction"
   ]
  },
  {
   "cell_type": "markdown",
   "id": "8b301cbb",
   "metadata": {},
   "source": [
    "### Question 8 - Parmi les cellules adjacentes à la cellule (i,j) déterminer le maximum. "
   ]
  },
  {
   "cell_type": "code",
   "execution_count": null,
   "id": "acb7d81d",
   "metadata": {},
   "outputs": [],
   "source": [
    "def max_adjacentes(tab,list: i:int,j :int) -> int :\n",
    "    \"\"\"\n",
    "    i : ligne de la cellule dont on cherche les cases adjacentes\n",
    "    j : colonne de la cellule dont on cherche les cases adjacentes\n",
    "    Retourne la plus grande valeur parmi les cases adjacentes à (i,j)\n",
    "    \"\"\""
   ]
  },
  {
   "cell_type": "code",
   "execution_count": null,
   "id": "7a1d9c99",
   "metadata": {},
   "outputs": [],
   "source": [
    "# Test de la fonction"
   ]
  },
  {
   "cell_type": "markdown",
   "id": "c3aee3bd",
   "metadata": {},
   "source": [
    "### Question 9 - Rechercher la seconde plus grande valeur du tableau."
   ]
  },
  {
   "cell_type": "code",
   "execution_count": null,
   "id": "8f63140a",
   "metadata": {},
   "outputs": [],
   "source": [
    "def deuxieme_max (tab,list) -> int :\n",
    "    "
   ]
  },
  {
   "cell_type": "code",
   "execution_count": null,
   "id": "465e00d0",
   "metadata": {},
   "outputs": [],
   "source": [
    "# Test de la fonction"
   ]
  }
 ],
 "metadata": {
  "kernelspec": {
   "display_name": "Python 3",
   "language": "python",
   "name": "python3"
  },
  "language_info": {
   "codemirror_mode": {
    "name": "ipython",
    "version": 3
   },
   "file_extension": ".py",
   "mimetype": "text/x-python",
   "name": "python",
   "nbconvert_exporter": "python",
   "pygments_lexer": "ipython3",
   "version": "3.8.8"
  }
 },
 "nbformat": 4,
 "nbformat_minor": 5
}
